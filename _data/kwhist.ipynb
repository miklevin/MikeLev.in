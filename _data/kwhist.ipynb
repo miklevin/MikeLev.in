{
 "cells": [
  {
   "cell_type": "code",
   "execution_count": null,
   "id": "c92346b5-d501-4697-8ffa-f3150af56434",
   "metadata": {
    "tags": []
   },
   "outputs": [],
   "source": [
    "%load_ext nb_black"
   ]
  },
  {
   "cell_type": "code",
   "execution_count": null,
   "id": "674594a0-bd6c-45e2-ba43-de4030e5bd78",
   "metadata": {
    "tags": []
   },
   "outputs": [],
   "source": [
    "from sqlitedict import SqliteDict as sqldict\n",
    "from collections import Counter, defaultdict\n",
    "from pathlib import Path\n",
    "from slugify import slugify\n",
    "\n",
    "REPO = \"/home/ubuntu/repos/hide/MikeLev.in/\"\n",
    "DBDIR = f\"{REPO}_data/\"\n",
    "INCDIR = f\"{REPO}_includes/\"\n",
    "\n",
    "# Delete all previous category pages\n",
    "for p in Path(INCDIR).glob(\"cat_*\"):\n",
    "    p.unlink()\n",
    "\n",
    "keywords = []\n",
    "cat_dict = defaultdict(list)\n",
    "with sqldict(DBDIR + \"topics.db\") as db:\n",
    "    for i, (k, v) in enumerate(db.iteritems()):\n",
    "        for keyword in v.split(\", \"):\n",
    "            keyword = slugify(keyword.lower())\n",
    "            keywords.append(keyword)\n",
    "            cat_dict[keyword].append(k)\n",
    "histo = Counter(keywords)\n",
    "histo = histo.most_common()\n",
    "\n",
    "for i, (keyword, freq) in enumerate(histo):\n",
    "    slugs = cat_dict[keyword]\n",
    "    full_name = f\"{INCDIR}cat_{keyword}.md\"\n",
    "    num_posts = len(slugs)\n",
    "    if num_posts > 2:\n",
    "        with open(full_name, \"w\") as fh:\n",
    "            for slug in slugs:\n",
    "                li = f\"- [{slug.replace('-', ' ')}](/blog/{slug}/)\"\n",
    "                fh.write(f\"{li}\\n\")\n",
    "                print(i + 1, len(slugs), li)\n"
   ]
  },
  {
   "cell_type": "code",
   "execution_count": null,
   "id": "27f8dbe1-153b-44f6-a948-c9ac2d3e79e1",
   "metadata": {
    "tags": []
   },
   "outputs": [],
   "source": [
    "cat_dict"
   ]
  },
  {
   "cell_type": "code",
   "execution_count": null,
   "id": "9d8108a6-a944-4c0f-b74f-c7a179c80f07",
   "metadata": {},
   "outputs": [],
   "source": []
  }
 ],
 "metadata": {
  "kernelspec": {
   "display_name": "Python 3 (ipykernel)",
   "language": "python",
   "name": "python3"
  },
  "language_info": {
   "codemirror_mode": {
    "name": "ipython",
    "version": 3
   },
   "file_extension": ".py",
   "mimetype": "text/x-python",
   "name": "python",
   "nbconvert_exporter": "python",
   "pygments_lexer": "ipython3",
   "version": "3.11.3"
  }
 },
 "nbformat": 4,
 "nbformat_minor": 5
}
